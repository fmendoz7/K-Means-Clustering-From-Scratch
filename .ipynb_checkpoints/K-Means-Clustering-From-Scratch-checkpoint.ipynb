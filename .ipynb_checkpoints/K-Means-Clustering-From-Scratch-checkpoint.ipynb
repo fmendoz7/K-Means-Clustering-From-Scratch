{
 "cells": [
  {
   "cell_type": "markdown",
   "metadata": {
    "run_control": {
     "marked": true
    }
   },
   "source": [
    "## MENDOZA- HW 5\n",
    "Francis Mendoza\n",
    "\n",
    "ASUID: 1213055998\n",
    "\n",
    "CSE494- Intro To Machine Learning, F, 15:05-17:45 hrs MST\n",
    "\n",
    "Professor Maneparambil\n",
    "\n",
    "Assignment 5"
   ]
  },
  {
   "cell_type": "markdown",
   "metadata": {
    "run_control": {
     "marked": true
    }
   },
   "source": [
    "## PROBLEM 1: K MEANS CLUSTERING FROM SCRATCH\n",
    "\n",
    "* x_i = {(2 8), (3 3), (1, 2), (5, 8), (7, 3), (6, 4), (8, 4), (4, 7)}\n",
    "* k = 3, with three centers varying"
   ]
  },
  {
   "cell_type": "code",
   "execution_count": 22,
   "metadata": {
    "collapsed": true
   },
   "outputs": [],
   "source": [
    "import numpy as np\n",
    "import matplotlib.pyplot as plt\n",
    "#, mpld3\n",
    "from matplotlib import style\n",
    "import pandas as pd \n",
    "\n",
    "style.use('ggplot')\n",
    "\n",
    "import pandas as pd"
   ]
  },
  {
   "cell_type": "code",
   "execution_count": 23,
   "metadata": {},
   "outputs": [],
   "source": [
    "class K_Means:\n",
    "    def __init__(self, paramTup, k =3, tolerance = 0.0001, max_iterations = 500):\n",
    "        self.k = k\n",
    "        self.tolerance = tolerance\n",
    "        self.max_iterations = max_iterations\n",
    "        self.centroids = {}\n",
    "        for i in range(self.k):\n",
    "            self.centroids[i] = paramTup[i]\n",
    "\n",
    "\n",
    "    def fit(self, data):\n",
    "        #(!!!) CHOSE FIRST K ELEMENTS AS CENTROIDS. MANUALLY INITIALIZE!!\n",
    "        #initialize the centroids, the first 'k' elements in the dataset will be our initial centroids\n",
    "        \n",
    "\n",
    "        #begin iterations\n",
    "        for i in range(self.max_iterations):\n",
    "            self.classes = {}\n",
    "            for i in range(self.k):\n",
    "                self.classes[i] = []\n",
    "\n",
    "            #find the distance between the point and cluster; choose the nearest centroid\n",
    "            for features in data:\n",
    "                distances = [np.linalg.norm(features - self.centroids[centroid]) for centroid in self.centroids]\n",
    "                classification = distances.index(min(distances))\n",
    "                self.classes[classification].append(features)\n",
    "\n",
    "            previous = dict(self.centroids)\n",
    "\n",
    "            #average the cluster datapoints to re-calculate the centroids\n",
    "            for classification in self.classes:\n",
    "                self.centroids[classification] = np.average(self.classes[classification], axis = 0)\n",
    "\n",
    "            isOptimal = True\n",
    "\n",
    "            for centroid in self.centroids:\n",
    "\n",
    "                original_centroid = previous[centroid]\n",
    "                curr = self.centroids[centroid]\n",
    "\n",
    "                if np.sum((curr - original_centroid)/original_centroid * 100.0) > self.tolerance:\n",
    "                    isOptimal = False\n",
    "\n",
    "            #break out of the main loop if the results are optimal, ie. the centroids don't change their positions much(more than our tolerance)\n",
    "            if isOptimal:\n",
    "                break\n",
    "\n",
    "    def pred(self, data):\n",
    "        distances = [np.linalg.norm(data - self.centroids[centroid]) for centroid in self.centroids]\n",
    "        classification = distances.index(min(distances))\n",
    "        return classification"
   ]
  },
  {
   "cell_type": "code",
   "execution_count": 31,
   "metadata": {},
   "outputs": [
    {
     "name": "stdout",
     "output_type": "stream",
     "text": [
      "(8, 2)\n",
      "FINAL CENTROIDS ARE: {0: array([ 2.,  8.]), 1: array([ 4.25,  3.  ]), 2: array([ 5.66666667,  6.33333333])}\n",
      "KMC graph for [(2, 8), (3, 3), (5, 8)]\n"
     ]
    },
    {
     "data": {
      "image/png": "[encoded data removed]",
      "text/plain": [
       "<Figure size 432x288 with 1 Axes>"
      ]
     },
     "metadata": {},
     "output_type": "display_data"
    },
    {
     "name": "stdout",
     "output_type": "stream",
     "text": [
      "FINAL CENTROIDS ARE: {0: array([ 3.66666667,  7.66666667]), 1: array([ 2. ,  2.5]), 2: array([ 7.        ,  3.66666667])}\n",
      "KMC graph for [(2, 8), (3, 3), (6, 4)]\n"
     ]
    },
    {
     "data": {
      "image/png": "[encoded data removed]",
      "text/plain": [
       "<Figure size 432x288 with 1 Axes>"
      ]
     },
     "metadata": {},
     "output_type": "display_data"
    },
    {
     "name": "stdout",
     "output_type": "stream",
     "text": [
      "FINAL CENTROIDS ARE: {0: array([ 3.66666667,  7.66666667]), 1: array([ 2. ,  2.5]), 2: array([ 7.        ,  3.66666667])}\n",
      "KMC graph for [(2, 8), (1, 2), (6, 4)]\n"
     ]
    },
    {
     "data": {
      "image/png": "[encoded data removed]",
      "text/plain": [
       "<Figure size 432x288 with 1 Axes>"
      ]
     },
     "metadata": {},
     "output_type": "display_data"
    }
   ],
   "source": [
    "def main():\n",
    "    filepath = 'KMC.csv'\n",
    "    df = pd.read_csv(filepath, sep=',')\n",
    "\n",
    "    #Check output of CSV\n",
    "    print(df.shape)\n",
    "    df\n",
    "\n",
    "    df = df[['X', 'Y']]\n",
    "    dataset = df.astype(float).values.tolist()\n",
    "\n",
    "    #Return Numpy Array From CSV\n",
    "    X = df.values\n",
    "    X\n",
    "    \n",
    "    \n",
    "    tripleCent = [[(2,8), (3,3), (5,8)], [(2,8),(3,3),(6,4)], [(2,8),(1,2),(6,4)]]\n",
    "    for i in range(3):\n",
    "        km = K_Means(tripleCent[i], 3)\n",
    "        km.fit(X)\n",
    "        print(\"FINAL CENTROIDS ARE: \" + str(km.centroids))\n",
    "\n",
    "        # Plotting starts here, the colors\n",
    "        colors = 10*[\"r\", \"g\", \"c\", \"b\", \"k\"]\n",
    "\n",
    "        for centroid in km.centroids:\n",
    "            plt.scatter(km.centroids[centroid][0], km.centroids[centroid][1], s = 130, marker = \"x\")\n",
    "\n",
    "        for classification in km.classes:\n",
    "            color = colors[classification]\n",
    "            for features in km.classes[classification]:\n",
    "                plt.scatter(features[0], features[1], color = color,s = 30)\n",
    "\n",
    "        print(\"KMC graph for \" + str(tripleCent[i]))\n",
    "        plt.show()\n",
    "    \n",
    "if __name__ == \"__main__\":\n",
    "    main()"
   ]
  },
  {
   "cell_type": "markdown",
   "metadata": {
    "collapsed": true
   },
   "source": [
    "# PROBLEM 2: PRINCIPAL COMPONENT ANALYSIS\n",
    "* Calculate covariance matrix\n",
    "* Calculate eigen values and eigen vectors (can use math libraries)\n",
    "* Graph principal components from feature space"
   ]
  },
  {
   "cell_type": "code",
   "execution_count": 25,
   "metadata": {
    "collapsed": true
   },
   "outputs": [],
   "source": [
    "import pandas as pd \n",
    "filepath2 = 'pca_data2.csv'\n",
    "df2 = pd.read_csv(filepath2, sep=',')\n",
    "#df2\n",
    "\n",
    "column1 = df2.x\n",
    "column2 = df2.y\n",
    "\n",
    "#column1\n",
    "#column2"
   ]
  },
  {
   "cell_type": "code",
   "execution_count": 26,
   "metadata": {},
   "outputs": [
    {
     "data": {
      "image/png": "[encoded data removed]",
      "text/plain": [
       "<Figure size 864x576 with 1 Axes>"
      ]
     },
     "metadata": {},
     "output_type": "display_data"
    }
   ],
   "source": [
    "import numpy as np\n",
    "import matplotlib.pyplot as plt\n",
    "%matplotlib inline\n",
    "\n",
    "plt.style.use('ggplot')\n",
    "plt.rcParams['figure.figsize'] = (12,8)\n",
    "\n",
    "#Separate into columns\n",
    "x = column1\n",
    "y = column2\n",
    "X = np.vstack((x,y)).T\n",
    "\n",
    "plt.scatter(X[:, 0], X[:, 1])\n",
    "plt.title('PCA Data')\n",
    "plt.axis('equal');"
   ]
  },
  {
   "cell_type": "code",
   "execution_count": 27,
   "metadata": {},
   "outputs": [
    {
     "name": "stdout",
     "output_type": "stream",
     "text": [
      "COVARIANCE MATRIX\n"
     ]
    },
    {
     "data": {
      "text/plain": [
       "array([[ 0.90315073,  0.63186678],\n",
       "       [ 0.63186678,  2.42698693]])"
      ]
     },
     "execution_count": 27,
     "metadata": {},
     "output_type": "execute_result"
    }
   ],
   "source": [
    "# Covariance\n",
    "def cov(x, y):\n",
    "    xbar, ybar = x.mean(), y.mean()\n",
    "    return np.sum((x - xbar)*(y - ybar))/(len(x) - 1)\n",
    "\n",
    "# Covariance matrix\n",
    "def cov_mat(X):\n",
    "    return np.array([[cov(X[0], X[0]), cov(X[0], X[1])], \\\n",
    "                     [cov(X[1], X[0]), cov(X[1], X[1])]])\n",
    "\n",
    "# Calculate covariance matrix \n",
    "print(\"COVARIANCE MATRIX\")\n",
    "comat = cov_mat(X.T) \n",
    "comat"
   ]
  },
  {
   "cell_type": "code",
   "execution_count": 42,
   "metadata": {},
   "outputs": [
    {
     "name": "stdout",
     "output_type": "stream",
     "text": [
      "EIGENVALUES are first array, EIGENVECTORS are second array\n"
     ]
    },
    {
     "data": {
      "text/plain": [
       "(array([ 0.67523307,  2.65490458]), array([[-0.94067581, -0.33930669],\n",
       "        [ 0.33930669, -0.94067581]]))"
      ]
     },
     "execution_count": 42,
     "metadata": {},
     "output_type": "execute_result"
    }
   ],
   "source": [
    "#Eigenvalue and Eigenvector calculation\n",
    "print(\"EIGENVALUES are first array, EIGENVECTORS are second array\")\n",
    "np.linalg.eig(comat)"
   ]
  },
  {
   "cell_type": "code",
   "execution_count": 40,
   "metadata": {},
   "outputs": [
    {
     "name": "stdout",
     "output_type": "stream",
     "text": [
      "PCA COMPONENTS: \n",
      "[[ 0.33930669  0.94067581]\n",
      " [ 0.94067581 -0.33930669]]\n",
      "PCA EXPLAINED VARIANCES: \n",
      "[ 2.65490458  0.67523307]\n"
     ]
    },
    {
     "data": {
      "image/png": "[encoded data removed]",
      "text/plain": [
       "<Figure size 432x288 with 1 Axes>"
      ]
     },
     "metadata": {},
     "output_type": "display_data"
    }
   ],
   "source": [
    "#Plotting PCA from graph\n",
    "%matplotlib inline\n",
    "import numpy as np\n",
    "import matplotlib.pyplot as plt\n",
    "import matplotlib.colors as colors \n",
    "import seaborn as sns; sns.set()\n",
    "\n",
    "from sklearn.decomposition import PCA\n",
    "pca = PCA(n_components=2)\n",
    "pca.fit(X)\n",
    "\n",
    "def draw_vector(v0, v1, ax=None):\n",
    "    ax = ax or plt.gca()\n",
    "    ax = ax or plt.gca()\n",
    "    arrowprops=dict(arrowstyle='->',\n",
    "                    linewidth=2,\n",
    "                    color='b',\n",
    "                    shrinkA=0, shrinkB=0)\n",
    "    ax.annotate('', v1, v0, arrowprops=arrowprops)\n",
    "    \n",
    "#Plot Data\n",
    "plt.scatter(X[:, 0], X[:, 1], alpha=0.2)\n",
    "for length, vector in zip(pca.explained_variance_, pca.components_):\n",
    "    v = vector * 3 * np.sqrt(length)\n",
    "    draw_vector(pca.mean_, pca.mean_ + v)\n",
    "plt.axis('equal');\n",
    "\n",
    "print(\"PCA COMPONENTS: \")\n",
    "print(pca.components_)\n",
    "\n",
    "print(\"PCA EXPLAINED VARIANCES: \")\n",
    "print(pca.explained_variance_)"
   ]
  },
  {
   "cell_type": "code",
   "execution_count": null,
   "metadata": {
    "collapsed": true
   },
   "outputs": [],
   "source": []
  }
 ],
 "metadata": {
  "anaconda-cloud": {},
  "kernelspec": {
   "display_name": "Python 3",
   "language": "python",
   "name": "python3"
  },
  "language_info": {
   "codemirror_mode": {
    "name": "ipython",
    "version": 3
   },
   "file_extension": ".py",
   "mimetype": "text/x-python",
   "name": "python",
   "nbconvert_exporter": "python",
   "pygments_lexer": "ipython3",
   "version": "3.6.8"
  },
  "name": "Train_Test_Splits_Regularization_Exercises-ANSWERS",
  "notebookId": 2125319687183944
 },
 "nbformat": 4,
 "nbformat_minor": 1
}
